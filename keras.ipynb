{
 "cells": [
  {
   "cell_type": "markdown",
   "metadata": {},
   "source": [
    "# Keras Tutorial"
   ]
  },
  {
   "cell_type": "markdown",
   "metadata": {},
   "source": [
    "Keras is a popular deep learning framework and it's easy to get started."
   ]
  },
  {
   "cell_type": "code",
   "execution_count": 2,
   "metadata": {},
   "outputs": [
    {
     "name": "stderr",
     "output_type": "stream",
     "text": [
      "Using TensorFlow backend.\n"
     ]
    }
   ],
   "source": [
    "import keras\n",
    "from keras.datasets import mnist\n",
    "from keras.models import Sequential\n",
    "from keras.layers import Dense, Dropout, Flatten, Conv2D, MaxPooling2D\n",
    "\n",
    "BATCH_SIZE = 128\n",
    "NUM_CLASSES = 10\n",
    "NUM_EPOCHS = 10"
   ]
  },
  {
   "cell_type": "markdown",
   "metadata": {},
   "source": [
    "First, we read the mnist data and preprocess them."
   ]
  },
  {
   "cell_type": "code",
   "execution_count": 3,
   "metadata": {},
   "outputs": [],
   "source": [
    "# download and load the data (split them between train and test sets)\n",
    "(x_train, y_train), (x_test, y_test) = mnist.load_data()\n",
    "\n",
    "# expand the channel dimension\n",
    "x_train = x_train.reshape(x_train.shape[0], 28, 28, 1)\n",
    "x_test = x_test.reshape(x_test.shape[0], 28, 28, 1)\n",
    "input_shape = (28, 28, 1)\n",
    "\n",
    "# make the value of pixels from [0, 255] to [0, 1] for further process\n",
    "x_train = x_train.astype('float32') / 255.\n",
    "x_test = x_test.astype('float32') / 255.\n",
    "\n",
    "# convert class vectors to binary class matrics\n",
    "y_train = keras.utils.to_categorical(y_train, NUM_CLASSES)\n",
    "y_test = keras.utils.to_categorical(y_test, NUM_CLASSES)"
   ]
  },
  {
   "cell_type": "markdown",
   "metadata": {},
   "source": [
    "Then, we define the model, object function and optimizer that we use to classify."
   ]
  },
  {
   "cell_type": "code",
   "execution_count": 10,
   "metadata": {},
   "outputs": [],
   "source": [
    "# define the model\n",
    "model = Sequential()\n",
    "# C1\n",
    "model.add(Conv2D(6, kernel_size=(5, 5), activation='relu', input_shape=(28, 28, 1)))\n",
    "\n",
    "# S2\n",
    "model.add(MaxPooling2D(pool_size=(2, 2)))\n",
    "\n",
    "# C3\n",
    "model.add(Conv2D(16, kernel_size=(5, 5), activation='relu'))\n",
    "\n",
    "# S4\n",
    "model.add(MaxPooling2D(pool_size=(2, 2)))\n",
    "\n",
    "# C5\n",
    "model.add(Flatten())\n",
    "model.add(Dense(120, activation='relu'))\n",
    "\n",
    "# F6\n",
    "model.add(Dense(84, activation='relu'))\n",
    "\n",
    "# OUTPUT\n",
    "model.add(Dense(NUM_CLASSES, activation='softmax'))\n",
    "\n",
    "# define the object function, optimizer and metrics\n",
    "model.compile(loss=keras.metrics.categorical_crossentropy, optimizer=keras.optimizers.Adam(), metrics=['accuracy'])"
   ]
  },
  {
   "cell_type": "markdown",
   "metadata": {},
   "source": [
    "Next, we can start to train and evaluate!"
   ]
  },
  {
   "cell_type": "code",
   "execution_count": 11,
   "metadata": {},
   "outputs": [
    {
     "name": "stdout",
     "output_type": "stream",
     "text": [
      "Train on 60000 samples, validate on 10000 samples\n",
      "Epoch 1/10\n",
      "60000/60000 [==============================] - 27s 457us/step - loss: 0.3348 - accuracy: 0.9012 - val_loss: 0.1041 - val_accuracy: 0.9668\n",
      "Epoch 2/10\n",
      "60000/60000 [==============================] - 30s 494us/step - loss: 0.0895 - accuracy: 0.9724 - val_loss: 0.0623 - val_accuracy: 0.9790\n",
      "Epoch 3/10\n",
      "60000/60000 [==============================] - 31s 512us/step - loss: 0.0628 - accuracy: 0.9806 - val_loss: 0.0513 - val_accuracy: 0.9831\n",
      "Epoch 4/10\n",
      "60000/60000 [==============================] - 35s 587us/step - loss: 0.0489 - accuracy: 0.9851 - val_loss: 0.0448 - val_accuracy: 0.9850\n",
      "Epoch 5/10\n",
      "60000/60000 [==============================] - 36s 604us/step - loss: 0.0401 - accuracy: 0.9872 - val_loss: 0.0412 - val_accuracy: 0.9877\n",
      "Epoch 6/10\n",
      "60000/60000 [==============================] - 34s 562us/step - loss: 0.0354 - accuracy: 0.9887 - val_loss: 0.0429 - val_accuracy: 0.9864\n",
      "Epoch 7/10\n",
      "60000/60000 [==============================] - 34s 573us/step - loss: 0.0303 - accuracy: 0.9902 - val_loss: 0.0324 - val_accuracy: 0.9895\n",
      "Epoch 8/10\n",
      "60000/60000 [==============================] - 34s 575us/step - loss: 0.0253 - accuracy: 0.9919 - val_loss: 0.0414 - val_accuracy: 0.9862\n",
      "Epoch 9/10\n",
      "60000/60000 [==============================] - 35s 591us/step - loss: 0.0227 - accuracy: 0.9926 - val_loss: 0.0404 - val_accuracy: 0.9874\n",
      "Epoch 10/10\n",
      "60000/60000 [==============================] - 35s 584us/step - loss: 0.0208 - accuracy: 0.9932 - val_loss: 0.0346 - val_accuracy: 0.9901\n",
      "60000/60000 [==============================] - 18s 298us/step\n",
      "Training loss: 0.0137, Training accuracy: 1.00%\n",
      "10000/10000 [==============================] - 3s 305us/step\n",
      "Testing loss: 0.0346, Testing accuracy: 0.99%\n"
     ]
    }
   ],
   "source": [
    "# train\n",
    "H = model.fit(x_train, y_train,\n",
    "    validation_data=(x_test, y_test),\n",
    "    batch_size=BATCH_SIZE,\n",
    "    epochs=NUM_EPOCHS,\n",
    "    shuffle=True,\n",
    "    verbose=1)\n",
    "\n",
    "# evaluate\n",
    "score_train = model.evaluate(x_train, y_train)\n",
    "print('Training loss: %.4f, Training accuracy: %.2f%%' % (score_train[0],score_train[1]))\n",
    "score_test = model.evaluate(x_test, y_test)\n",
    "print('Testing loss: %.4f, Testing accuracy: %.2f%%' % (score_test[0],score_test[1]))"
   ]
  },
  {
   "cell_type": "markdown",
   "metadata": {},
   "source": [
    "#### Q6:\n",
    "Please print the training and testing accuracy."
   ]
  },
  {
   "cell_type": "markdown",
   "metadata": {},
   "source": [
    "Training loss: 0.0137, Training accuracy: 1.00%\n",
    "\n",
    "Testing loss: 0.0346, Testing accuracy: 0.99%"
   ]
  }
 ],
 "metadata": {
  "kernelspec": {
   "display_name": "Python 3",
   "language": "python",
   "name": "python3"
  },
  "language_info": {
   "codemirror_mode": {
    "name": "ipython",
    "version": 3
   },
   "file_extension": ".py",
   "mimetype": "text/x-python",
   "name": "python",
   "nbconvert_exporter": "python",
   "pygments_lexer": "ipython3",
   "version": "3.6.13"
  },
  "pycharm": {
   "stem_cell": {
    "cell_type": "raw",
    "source": [],
    "metadata": {
     "collapsed": false
    }
   }
  }
 },
 "nbformat": 4,
 "nbformat_minor": 2
}